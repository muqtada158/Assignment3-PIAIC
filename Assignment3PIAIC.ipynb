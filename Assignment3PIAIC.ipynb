{
 "cells": [
  {
   "cell_type": "markdown",
   "metadata": {},
   "source": [
    "<h3>Q no 1:  Write a python program to find number of occurrences of given number in a list with out using built-in methods</h3>\n",
    "<h4>**1 generate a list of some random num which is repeated again and again</h4>\n",
    "<h4>**2 take user input any number</h4>\n",
    "<h4>**3 find the number of occurrences of that num in your list</h4>\n",
    "<h4>**4 print some message to user with that result</h4>"
   ]
  },
  {
   "cell_type": "code",
   "execution_count": null,
   "metadata": {},
   "outputs": [],
   "source": []
  },
  {
   "cell_type": "code",
   "execution_count": 13,
   "metadata": {},
   "outputs": [
    {
     "name": "stdout",
     "output_type": "stream",
     "text": [
      "Enter your number3\n",
      "The Number of occurrences of number 3 = 3\n"
     ]
    }
   ],
   "source": [
    "Random=[0,0,1,1,2,2,3,3,4,4,5,5,5,4,3,2,1]\n",
    "list(Random)\n",
    "User=int(input(\"Enter your number\"))\n",
    "Count=0;\n",
    "for i in range(0,len(Random),1):\n",
    "    if Random[i]==User:\n",
    "        Count+=1;\n",
    "print(\"The Number of occurrences of number \"+str(User)+\" = \"+str(Count))"
   ]
  },
  {
   "cell_type": "markdown",
   "metadata": {},
   "source": [
    "<h3>Q no 2:   [\"www.zframez.com\", \"www.wikipedia.org\", \"www.asp.net\", \"www.abcd.in\"]\n",
    "<br/><br/><br/><br/><br/>\n",
    "Write a python program to print website suffixes (com , org , net ,in) from this list\n",
    "\n",
    "Hint : Use split() method to perform this task\n",
    "</h3>\n"
   ]
  },
  {
   "cell_type": "code",
   "execution_count": 11,
   "metadata": {},
   "outputs": [
    {
     "name": "stdout",
     "output_type": "stream",
     "text": [
      "com\n",
      "org\n",
      "net\n",
      "in\n"
     ]
    }
   ],
   "source": [
    "Domains = [\"www.zframez.com\", \"www.wikipedia.org\", \"www.asp.net\", \"www.abcd.in\"]\n",
    "for i in range(0,4):\n",
    "    print(Domains[i].split(\".\")[2])"
   ]
  },
  {
   "cell_type": "code",
   "execution_count": null,
   "metadata": {},
   "outputs": [],
   "source": []
  },
  {
   "cell_type": "markdown",
   "metadata": {},
   "source": [
    "<h3> Q no 3 : Write a program which can compute the factorial of a given numbers.</h3>\n",
    "<br/>\n",
    "<br/>\n",
    "<h4>**1 first take user input any number</h4>\n",
    "<h4>**2 calculate factorial of that input and then print the result to user</h4>"
   ]
  },
  {
   "cell_type": "code",
   "execution_count": 18,
   "metadata": {},
   "outputs": [
    {
     "name": "stdout",
     "output_type": "stream",
     "text": [
      "Enter Factorial Number you want to find = 5\n",
      "The Factorial of given number is =  120\n"
     ]
    }
   ],
   "source": [
    "User=int(input(\"Enter Factorial Number you want to find = \"))\n",
    "Factorial=1;\n",
    "for i in range(1,User+1,1):\n",
    "    Factorial=i*Factorial\n",
    "print(\"The Factorial of given number is = \",Factorial)"
   ]
  },
  {
   "cell_type": "code",
   "execution_count": null,
   "metadata": {},
   "outputs": [],
   "source": []
  },
  {
   "cell_type": "code",
   "execution_count": null,
   "metadata": {},
   "outputs": [],
   "source": []
  },
  {
   "cell_type": "code",
   "execution_count": null,
   "metadata": {},
   "outputs": [],
   "source": []
  },
  {
   "cell_type": "markdown",
   "metadata": {},
   "source": [
    "<h3>Q 4 (a) :  If you could invite anyone, living or deceased, to dinner, who\n",
    "would you invite? Make a list that includes at least three people you’d like to\n",
    "invite to dinner. Then use your list to print a message to each person, inviting\n",
    "them to dinner.</h3>"
   ]
  },
  {
   "cell_type": "code",
   "execution_count": 35,
   "metadata": {},
   "outputs": [
    {
     "name": "stdout",
     "output_type": "stream",
     "text": [
      "Haider you are invited by Md. Muqtada kamal for dinner on 28th of may\n",
      "Nomi you are invited by Md. Muqtada kamal for dinner on 28th of may\n",
      "Fawwad you are invited by Md. Muqtada kamal for dinner on 28th of may\n"
     ]
    }
   ],
   "source": [
    "Friends = [\"Haider\",\"Nomi\",\"Fawwad\"]\n",
    "for i in range(0,len(Friends)):\n",
    "    print(Friends[i] + \" you are invited by Md. Muqtada kamal for dinner on 28th of may\")"
   ]
  },
  {
   "cell_type": "code",
   "execution_count": null,
   "metadata": {},
   "outputs": [],
   "source": []
  },
  {
   "cell_type": "code",
   "execution_count": null,
   "metadata": {},
   "outputs": [],
   "source": []
  },
  {
   "cell_type": "markdown",
   "metadata": {},
   "source": [
    "<h3>Q 4 (b) : You just heard that one of your guests can’t make the\n",
    "dinner, so you need to send out a new set of invitations. You’ll have to think of\n",
    "someone else to invite.<br/></br><br/>\n",
    "•\t Start with your program from Q 4 (a). Add a print statement at the\n",
    "end of your program stating the name of the guest who can’t make it.<br/></br><br/>\n",
    "•\t Modify your list, replacing the name of the guest who can’t make it with\n",
    "the name of the new person you are inviting.<br/></br><br/>\n",
    "•\t Print a second set of invitation messages, one for each person who is still\n",
    "in your list.<br/></br><br/></h3>"
   ]
  },
  {
   "cell_type": "code",
   "execution_count": 33,
   "metadata": {},
   "outputs": [
    {
     "name": "stdout",
     "output_type": "stream",
     "text": [
      "Nomi will not come to dinner with us\n"
     ]
    }
   ],
   "source": [
    "Friends = [\"Haider\",\"Nomi\",\"Fawwad\"]\n",
    "print(Friends[1]+\" will not come to dinner with us\")"
   ]
  },
  {
   "cell_type": "code",
   "execution_count": 36,
   "metadata": {},
   "outputs": [
    {
     "name": "stdout",
     "output_type": "stream",
     "text": [
      "Haider you are invited by Md. Muqtada kamal for dinner on 28th of may\n",
      "Aitisam you are invited by Md. Muqtada kamal for dinner on 28th of may\n",
      "Fawwad you are invited by Md. Muqtada kamal for dinner on 28th of may\n"
     ]
    }
   ],
   "source": [
    "Friends[1] = \"Aitisam\"\n",
    "for i in range(0,len(Friends)):\n",
    "    print(Friends[i] + \" you are invited by Md. Muqtada kamal for dinner on 28th of may\")"
   ]
  },
  {
   "cell_type": "code",
   "execution_count": null,
   "metadata": {},
   "outputs": [],
   "source": []
  },
  {
   "cell_type": "markdown",
   "metadata": {},
   "source": [
    "<h3>Q 4 (c) : You just found a bigger dinner table, so now more space is\n",
    "available. Think of three more guests to invite to dinner.<br/></br><br/>\n",
    "•\t Start with your program from Q 4 (a) and (b) Add a print\n",
    "statement to the end of your program informing people that you found a\n",
    "bigger dinner table.<br/></br><br/>\n",
    "•\t Use insert() to add one new guest to the beginning of your list.<br/></br><br/>\n",
    "•\t Use insert() to add one new guest to the middle of your list.<br/></br><br/>\n",
    "•\t Use append() to add one new guest to the end of your list.<br/></br><br/>\n",
    "•\t Print a new set of invitation messages, one for each person in your list.<br/></br><br/></h3>"
   ]
  },
  {
   "cell_type": "code",
   "execution_count": 48,
   "metadata": {},
   "outputs": [
    {
     "name": "stdout",
     "output_type": "stream",
     "text": [
      "Hey lads....! I just found a bigger dinner table.\n",
      "Dear Aitisam you are invited by Md. Muqtada kamal for dinner on 28th of may\n",
      "Dear Haider you are invited by Md. Muqtada kamal for dinner on 28th of may\n",
      "Dear Shahzaib you are invited by Md. Muqtada kamal for dinner on 28th of may\n",
      "Dear Nomi you are invited by Md. Muqtada kamal for dinner on 28th of may\n",
      "Dear Fawwad you are invited by Md. Muqtada kamal for dinner on 28th of may\n",
      "Dear Rehan you are invited by Md. Muqtada kamal for dinner on 28th of may\n"
     ]
    }
   ],
   "source": [
    "Friends = [\"Haider\",\"Nomi\",\"Fawwad\"]\n",
    "print(\"Hey lads....! I just found a bigger dinner table.\")\n",
    "Friends.insert(0,\"Aitisam\")\n",
    "Friends.insert(2,\"Shahzaib\")\n",
    "Friends.append(\"Rehan\")\n",
    "for i in range(0,len(Friends)):\n",
    "    print(\"Dear \"+Friends[i] + \" you are invited by Md. Muqtada kamal for dinner on 28th of may\")"
   ]
  },
  {
   "cell_type": "code",
   "execution_count": null,
   "metadata": {},
   "outputs": [],
   "source": []
  },
  {
   "cell_type": "code",
   "execution_count": null,
   "metadata": {},
   "outputs": [],
   "source": []
  },
  {
   "cell_type": "markdown",
   "metadata": {},
   "source": [
    "<h5> Q 5 : Here you have some data in variable below, your task is to make a list of specific word Surah then print the list and length of list</h5>\n"
   ]
  },
  {
   "cell_type": "code",
   "execution_count": 53,
   "metadata": {},
   "outputs": [
    {
     "name": "stdout",
     "output_type": "stream",
     "text": [
      "['Surah', 'Surah']\n",
      "The length of list is  2\n"
     ]
    }
   ],
   "source": [
    "Sentence = str(\"There are 114 Surah in the Quran, each divided into verses (āyāt). The chapters or Surah are of unequal length\")\n",
    "List1=Sentence.split(' ')\n",
    "List2=[]\n",
    "for i in List1:\n",
    "    if i==\"Surah\":\n",
    "        List2.append(i)\n",
    "print(List2)\n",
    "print(\"The length of list is \",len(List2))"
   ]
  },
  {
   "cell_type": "code",
   "execution_count": null,
   "metadata": {},
   "outputs": [],
   "source": []
  },
  {
   "cell_type": "markdown",
   "metadata": {},
   "source": [
    " <h3>Q no 6 : You have some name of cities in list named cities, Your task is to check whether Karachi is present in this list or not, if present print the index where the value Karachi is present</h3>"
   ]
  },
  {
   "cell_type": "code",
   "execution_count": 76,
   "metadata": {},
   "outputs": [
    {
     "name": "stdout",
     "output_type": "stream",
     "text": [
      "Not existed\n",
      "The City exist at 1 Index\n",
      "Not existed\n",
      "Not existed\n"
     ]
    }
   ],
   "source": [
    "Cities=[\"Islamabad\",\"Karachi\", \"Lahore\", \"Peshawar\"]\n",
    "\n",
    "for i in range (0,len(Cities)):\n",
    "    if Cities[i] == \"Karachi\":\n",
    "        print(\"The City exist at\" ,i, \"Index\")\n",
    "    else:\n",
    "        print(\"Not existed\")"
   ]
  },
  {
   "cell_type": "code",
   "execution_count": null,
   "metadata": {},
   "outputs": [],
   "source": []
  },
  {
   "cell_type": "code",
   "execution_count": null,
   "metadata": {},
   "outputs": [],
   "source": []
  },
  {
   "cell_type": "code",
   "execution_count": null,
   "metadata": {},
   "outputs": [],
   "source": []
  },
  {
   "cell_type": "code",
   "execution_count": null,
   "metadata": {},
   "outputs": [],
   "source": []
  }
 ],
 "metadata": {
  "kernelspec": {
   "display_name": "Python 3",
   "language": "python",
   "name": "python3"
  },
  "language_info": {
   "codemirror_mode": {
    "name": "ipython",
    "version": 3
   },
   "file_extension": ".py",
   "mimetype": "text/x-python",
   "name": "python",
   "nbconvert_exporter": "python",
   "pygments_lexer": "ipython3",
   "version": "3.7.3"
  }
 },
 "nbformat": 4,
 "nbformat_minor": 2
}
